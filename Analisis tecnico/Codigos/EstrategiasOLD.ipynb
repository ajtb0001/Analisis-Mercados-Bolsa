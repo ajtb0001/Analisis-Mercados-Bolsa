{
 "cells": [
  {
   "attachments": {},
   "cell_type": "markdown",
   "metadata": {},
   "source": [
    "Técnicas pasadas"
   ]
  },
  {
   "cell_type": "code",
   "execution_count": null,
   "metadata": {},
   "outputs": [],
   "source": [
    "#Cruze de medias\n",
    "#Aqui obtengo como valores prometedores aquellos que tengan cruce de oro\n",
    "tendencias=[]\n",
    "for i in tickers:\n",
    "    if m26[i].iloc[-3] < m50[i].iloc[-3] and m26[i].iloc[-1] > m50[i].iloc[-1] and df_precio[i].iloc[-1] > m50[i].iloc[-1]:\n",
    "        tendencias.append(i)\n",
    "tendencias"
   ]
  },
  {
   "cell_type": "code",
   "execution_count": null,
   "metadata": {},
   "outputs": [],
   "source": [
    "#Extraer precios a un csv\n",
    "df_precio.to_csv ('precios.csv',index=True)\n",
    "df_volumen.to_csv ('volumen.csv', index=True)\n",
    "\n",
    "#cargar de un csv a un dtaframe\n",
    "df_precio2=pd.read_csv('precios.csv')"
   ]
  }
 ],
 "metadata": {
  "language_info": {
   "name": "python"
  },
  "orig_nbformat": 4
 },
 "nbformat": 4,
 "nbformat_minor": 2
}
