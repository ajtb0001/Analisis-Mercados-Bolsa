{
 "cells": [
  {
   "cell_type": "code",
   "execution_count": null,
   "metadata": {},
   "outputs": [],
   "source": [
    "import pandas as pd\n",
    "import numpy as np\n",
    "import matplotlib.pyplot as plt\n",
    "import yfinance as yf\n",
    "import talib as ta\n",
    "import string as str\n",
    "from csv import reader\n",
    "\n",
    "#Leer de un archivo CSV el listado de indices a analizar.\n",
    "with open('C:/Users/alvar/OneDrive/Escritorio/IndicesSYP500.csv', 'r') as archivo:\n",
    "     leer = reader(archivo)\n",
    "     lista2D = list(leer)\n",
    "\n",
    "lista2D.pop(0) #Elimina primer elemento de la lista\n",
    "        \n",
    "#Declaramos tickers\n",
    "tickers = [] \n",
    "for item in lista2D:\n",
    "     #Añadir elementos a la lista 1D\n",
    "     tickers += item\n",
    "# Visulaizar resultados de la lista plana o 1D\n",
    "print(tickers)"
   ]
  },
  {
   "cell_type": "code",
   "execution_count": null,
   "metadata": {},
   "outputs": [],
   "source": [
    "df_volumen = pd.DataFrame() #Crear dataframe de volumen\n",
    "\n",
    "for i in tickers:\n",
    "    df_volumen[i] = yf.download(i,'2022-01-01')['Volume']\n",
    "\n",
    "df_volumen.tail()"
   ]
  },
  {
   "cell_type": "code",
   "execution_count": null,
   "metadata": {},
   "outputs": [],
   "source": [
    "#Calculamos el retorno del volumen\n",
    "df_volumen_return = np.log(df_volumen / df_volumen.shift(1))\n",
    "df_volumen_return.tail()"
   ]
  },
  {
   "cell_type": "code",
   "execution_count": null,
   "metadata": {},
   "outputs": [],
   "source": [
    "#Aquí calculamos el retorno acumulado del volumen\n",
    "df_volumen_return_acum = df_volumen_return.cumsum()\n",
    "df_volumen_return_acum.tail()"
   ]
  },
  {
   "cell_type": "code",
   "execution_count": null,
   "metadata": {},
   "outputs": [],
   "source": [
    "#df_volumen_return.dropna(inplace=True)\n",
    "df_volumen_rsi_14 = pd.DataFrame()\n",
    "for i in tickers:\n",
    "    df_volumen_rsi_14[i] = ta.RSI(df_volumen_return_acum[i], timeperiod=14)\n",
    "\n",
    "#df_volumen_return.dropna(inplace=True)\n",
    "df_volumen_rsi_7 = pd.DataFrame()\n",
    "for i in tickers:\n",
    "    df_volumen_rsi_7[i] = ta.RSI(df_volumen_return_acum[i], timeperiod=7)\n",
    "\n",
    "#2 días\n",
    "df_volumen_rsi_3 = pd.DataFrame()\n",
    "for i in tickers:\n",
    "    df_volumen_rsi_3[i] = ta.RSI(df_volumen_return_acum[i], timeperiod=3)\n",
    "\n",
    "df_volumen_rsi_14.tail()"
   ]
  }
 ],
 "metadata": {
  "language_info": {
   "name": "python"
  },
  "orig_nbformat": 4
 },
 "nbformat": 4,
 "nbformat_minor": 2
}
